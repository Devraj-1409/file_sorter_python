{
 "cells": [
  {
   "cell_type": "markdown",
   "id": "2d19119c-7447-4abb-b23a-f7d9103f0e66",
   "metadata": {},
   "source": [
    "# Automatic File Sorter"
   ]
  },
  {
   "cell_type": "code",
   "execution_count": 37,
   "id": "8c332a4d-5481-4753-9c0b-d23050f0f2b9",
   "metadata": {},
   "outputs": [
    {
     "name": "stdout",
     "output_type": "stream",
     "text": [
      "['directory.xlsx', 'eg.txt', 'ss_one.png', 'ss_two.png']\n",
      "C:/Users/valmi/Downloads/FileSorter/excel files\n",
      "C:/Users/valmi/Downloads/FileSorter/text files\n",
      "C:/Users/valmi/Downloads/FileSorter/image files\n"
     ]
    }
   ],
   "source": [
    "import os, shutil\n",
    "path = r\"C:/Users/valmi/Downloads/FileSorter/\"\n",
    "main_folder = os.listdir(path)\n",
    "print(main_folder)\n",
    "sub_folders = ['excel files','text files' ,'image files']\n",
    "\n",
    "for item in range(0,3):\n",
    "    if not os.path.exists( path + sub_folders[item]):\n",
    "        print(path + sub_folders[item])\n",
    "        os.makedirs(path + sub_folders[item])\n",
    "\n",
    "for item in main_folder:\n",
    "    if '.xlsx' in item and not os.path.exists(path + 'excel files/' + item):\n",
    "        shutil.move(path + item, path + 'excel files/' + item)\n",
    "    if '.png' in item and not os.path.exists(path + 'image files/' + item):\n",
    "        shutil.move(path + item, path + 'image files/' + item)\n",
    "    if '.txt' in item and not os.path.exists(path + 'text files/' + item):\n",
    "        shutil.move(path + item, path + 'text files/' + item)\n",
    "        \n",
    "\n",
    "\n",
    "    "
   ]
  },
  {
   "cell_type": "code",
   "execution_count": null,
   "id": "7ec0398f-8fc7-4e61-a234-3f9ca81cd1a9",
   "metadata": {},
   "outputs": [],
   "source": []
  },
  {
   "cell_type": "code",
   "execution_count": null,
   "id": "d35250af-23c6-42ae-a8b5-488073d15842",
   "metadata": {},
   "outputs": [],
   "source": [
    "\n",
    "   "
   ]
  },
  {
   "cell_type": "code",
   "execution_count": null,
   "id": "72c3ffd8-16ae-4d52-a082-8ef7af8e0997",
   "metadata": {},
   "outputs": [],
   "source": []
  },
  {
   "cell_type": "code",
   "execution_count": null,
   "id": "cff6a2c3-d039-4d77-ada0-c7814061cc9d",
   "metadata": {},
   "outputs": [],
   "source": []
  },
  {
   "cell_type": "code",
   "execution_count": null,
   "id": "f8ef684c-329f-4b8f-b5c3-1ed48e81bea6",
   "metadata": {},
   "outputs": [],
   "source": []
  },
  {
   "cell_type": "code",
   "execution_count": null,
   "id": "005f367f-62cc-488d-b8aa-74186af96fa0",
   "metadata": {},
   "outputs": [],
   "source": []
  },
  {
   "cell_type": "code",
   "execution_count": null,
   "id": "e36e15e8-ce16-46df-aaab-ca158177813e",
   "metadata": {},
   "outputs": [],
   "source": []
  },
  {
   "cell_type": "code",
   "execution_count": null,
   "id": "21b6c3ed-795a-41b1-b108-bff2d329b4a9",
   "metadata": {},
   "outputs": [],
   "source": []
  },
  {
   "cell_type": "code",
   "execution_count": null,
   "id": "a99040ff-aabd-4a02-852d-d5bc3be789ed",
   "metadata": {},
   "outputs": [],
   "source": []
  },
  {
   "cell_type": "code",
   "execution_count": null,
   "id": "1cbecc38-cef5-4b98-b87d-219583b90643",
   "metadata": {},
   "outputs": [],
   "source": []
  },
  {
   "cell_type": "code",
   "execution_count": null,
   "id": "af6e2103-948b-40d2-8611-b707787b2aa7",
   "metadata": {},
   "outputs": [],
   "source": []
  },
  {
   "cell_type": "code",
   "execution_count": null,
   "id": "8bd639b3-b4af-4c3c-8084-6b6d68ccc8ad",
   "metadata": {},
   "outputs": [],
   "source": []
  },
  {
   "cell_type": "code",
   "execution_count": null,
   "id": "edd2c4f1-9874-44dc-8aa3-311d49ebbf9e",
   "metadata": {},
   "outputs": [],
   "source": []
  },
  {
   "cell_type": "code",
   "execution_count": null,
   "id": "da893c58-65cb-410c-9ef7-81cbdf69c7b2",
   "metadata": {},
   "outputs": [],
   "source": []
  },
  {
   "cell_type": "code",
   "execution_count": null,
   "id": "a5d2fc20-c542-415a-bb12-ff387e03728f",
   "metadata": {},
   "outputs": [],
   "source": []
  },
  {
   "cell_type": "code",
   "execution_count": null,
   "id": "f0a8169a-0b52-4d90-9b76-586cb69e0d38",
   "metadata": {},
   "outputs": [],
   "source": []
  },
  {
   "cell_type": "code",
   "execution_count": null,
   "id": "bcfdbff2-55a4-4e0a-9d7b-4dde78dd1883",
   "metadata": {},
   "outputs": [],
   "source": []
  },
  {
   "cell_type": "code",
   "execution_count": null,
   "id": "9b03873b-8d6d-4312-8af2-a08967bd0729",
   "metadata": {},
   "outputs": [],
   "source": []
  },
  {
   "cell_type": "code",
   "execution_count": null,
   "id": "9ec0d542-09ca-4221-a5e9-448e90d4e864",
   "metadata": {},
   "outputs": [],
   "source": []
  },
  {
   "cell_type": "code",
   "execution_count": null,
   "id": "0a8110d5-52fd-4ddf-98e1-24faa28db304",
   "metadata": {},
   "outputs": [],
   "source": []
  },
  {
   "cell_type": "code",
   "execution_count": null,
   "id": "244cc978-90a4-438d-ba84-fcaf8adee56a",
   "metadata": {},
   "outputs": [],
   "source": []
  },
  {
   "cell_type": "code",
   "execution_count": null,
   "id": "86babf85-17b7-4d70-84df-4e94c7ee763a",
   "metadata": {},
   "outputs": [],
   "source": []
  },
  {
   "cell_type": "code",
   "execution_count": null,
   "id": "27c6bbac-9ba7-42d2-9921-f48396441a93",
   "metadata": {},
   "outputs": [],
   "source": []
  },
  {
   "cell_type": "code",
   "execution_count": null,
   "id": "f577ca6c-cb18-4a5d-86c9-105cd87ecd88",
   "metadata": {},
   "outputs": [],
   "source": []
  },
  {
   "cell_type": "code",
   "execution_count": null,
   "id": "c01d838c-305f-4361-9b07-ca9e4eceacf2",
   "metadata": {},
   "outputs": [],
   "source": []
  },
  {
   "cell_type": "code",
   "execution_count": null,
   "id": "3662b103-26a3-4cbf-9272-76d5fd2e9be7",
   "metadata": {},
   "outputs": [],
   "source": []
  },
  {
   "cell_type": "code",
   "execution_count": null,
   "id": "af4c52d5-e48e-418b-bfcf-3d509dda21d2",
   "metadata": {},
   "outputs": [],
   "source": []
  },
  {
   "cell_type": "code",
   "execution_count": null,
   "id": "230437ae-e87f-4e95-a858-ebd1d758757c",
   "metadata": {},
   "outputs": [],
   "source": []
  },
  {
   "cell_type": "code",
   "execution_count": null,
   "id": "3269384f-151a-4e6e-bf40-6a2fef94ea1f",
   "metadata": {},
   "outputs": [],
   "source": []
  },
  {
   "cell_type": "code",
   "execution_count": null,
   "id": "128e199a-1c38-4db8-97ed-afb18973ec45",
   "metadata": {},
   "outputs": [],
   "source": []
  },
  {
   "cell_type": "code",
   "execution_count": null,
   "id": "212b4ba9-33a4-4ead-a8fb-14a4dfba9a0a",
   "metadata": {},
   "outputs": [],
   "source": []
  },
  {
   "cell_type": "code",
   "execution_count": null,
   "id": "a1c84e27-21fe-4449-9908-fabd2b523bd7",
   "metadata": {},
   "outputs": [],
   "source": []
  },
  {
   "cell_type": "code",
   "execution_count": null,
   "id": "c40d98f8-f388-4304-825c-f90dec2eaea4",
   "metadata": {},
   "outputs": [],
   "source": []
  },
  {
   "cell_type": "code",
   "execution_count": null,
   "id": "15adefb1-1865-43cd-8c91-b0f00a4174c7",
   "metadata": {},
   "outputs": [],
   "source": []
  },
  {
   "cell_type": "code",
   "execution_count": null,
   "id": "e6472504-eff1-4c99-a866-3131ffb02e57",
   "metadata": {},
   "outputs": [],
   "source": []
  },
  {
   "cell_type": "code",
   "execution_count": null,
   "id": "23bf3006-f1b5-4c0a-9668-48b4e3ff1bb2",
   "metadata": {},
   "outputs": [],
   "source": []
  }
 ],
 "metadata": {
  "kernelspec": {
   "display_name": "Python 3 (ipykernel)",
   "language": "python",
   "name": "python3"
  },
  "language_info": {
   "codemirror_mode": {
    "name": "ipython",
    "version": 3
   },
   "file_extension": ".py",
   "mimetype": "text/x-python",
   "name": "python",
   "nbconvert_exporter": "python",
   "pygments_lexer": "ipython3",
   "version": "3.12.7"
  }
 },
 "nbformat": 4,
 "nbformat_minor": 5
}
